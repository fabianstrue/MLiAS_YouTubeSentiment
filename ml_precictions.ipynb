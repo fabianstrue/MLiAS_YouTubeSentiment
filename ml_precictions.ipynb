{
 "cells": [
  {
   "cell_type": "markdown",
   "source": [
    "#Loading and transforming data"
   ],
   "metadata": {
    "collapsed": false
   },
   "id": "26413f514ea50422"
  },
  {
   "cell_type": "code",
   "outputs": [
    {
     "data": {
      "text/plain": "      video_id                                              title    views  \\\n0  3D1hn3jLO6Q  10 Things JENNIE Can't Live Without | 10 Essen...  1518478   \n1  kuQv-4nSmXM         Fanum Replies To Fans Online | Actually Me   402388   \n\n   likes  comments              published_at      angry   disgust       fear  \\\n0  78631      1450 2025-03-05 17:00:08+00:00   9.586111  1.291082  10.741376   \n1  15296       267 2025-01-28 17:00:02+00:00  17.474733  0.194227  11.011636   \n\n       happy        sad  surprise    neutral  view_deviation  hour  \\\n0  14.146092  21.476984  1.031442  41.726913        558045.0    17   \n1   8.953383  12.206915  4.693855  45.465252       -558045.0    17   \n\n   day_of_week  month  \n0            2      3  \n1            1      1  ",
      "text/html": "<div>\n<style scoped>\n    .dataframe tbody tr th:only-of-type {\n        vertical-align: middle;\n    }\n\n    .dataframe tbody tr th {\n        vertical-align: top;\n    }\n\n    .dataframe thead th {\n        text-align: right;\n    }\n</style>\n<table border=\"1\" class=\"dataframe\">\n  <thead>\n    <tr style=\"text-align: right;\">\n      <th></th>\n      <th>video_id</th>\n      <th>title</th>\n      <th>views</th>\n      <th>likes</th>\n      <th>comments</th>\n      <th>published_at</th>\n      <th>angry</th>\n      <th>disgust</th>\n      <th>fear</th>\n      <th>happy</th>\n      <th>sad</th>\n      <th>surprise</th>\n      <th>neutral</th>\n      <th>view_deviation</th>\n      <th>hour</th>\n      <th>day_of_week</th>\n      <th>month</th>\n    </tr>\n  </thead>\n  <tbody>\n    <tr>\n      <th>0</th>\n      <td>3D1hn3jLO6Q</td>\n      <td>10 Things JENNIE Can't Live Without | 10 Essen...</td>\n      <td>1518478</td>\n      <td>78631</td>\n      <td>1450</td>\n      <td>2025-03-05 17:00:08+00:00</td>\n      <td>9.586111</td>\n      <td>1.291082</td>\n      <td>10.741376</td>\n      <td>14.146092</td>\n      <td>21.476984</td>\n      <td>1.031442</td>\n      <td>41.726913</td>\n      <td>558045.0</td>\n      <td>17</td>\n      <td>2</td>\n      <td>3</td>\n    </tr>\n    <tr>\n      <th>1</th>\n      <td>kuQv-4nSmXM</td>\n      <td>Fanum Replies To Fans Online | Actually Me</td>\n      <td>402388</td>\n      <td>15296</td>\n      <td>267</td>\n      <td>2025-01-28 17:00:02+00:00</td>\n      <td>17.474733</td>\n      <td>0.194227</td>\n      <td>11.011636</td>\n      <td>8.953383</td>\n      <td>12.206915</td>\n      <td>4.693855</td>\n      <td>45.465252</td>\n      <td>-558045.0</td>\n      <td>17</td>\n      <td>1</td>\n      <td>1</td>\n    </tr>\n  </tbody>\n</table>\n</div>"
     },
     "execution_count": 13,
     "metadata": {},
     "output_type": "execute_result"
    }
   ],
   "source": [
    "import pandas as pd\n",
    "from sklearn.model_selection import train_test_split\n",
    "from sklearn.preprocessing import StandardScaler\n",
    "from sklearn.ensemble import RandomForestRegressor\n",
    "from sklearn.metrics import mean_squared_error, r2_score\n",
    "import matplotlib.pyplot as plt\n",
    "import seaborn as sns\n",
    "\n",
    "df = pd.read_csv('Data/results/final_dataset.csv')\n",
    "\n",
    "mean_views = df['views'].mean()\n",
    "df['view_deviation'] = df['views'] - mean_views\n",
    "\n",
    "# Feature engineer published at\n",
    "df['published_at'] = pd.to_datetime(df['published_at'])\n",
    "df['hour'] = df['published_at'].dt.hour\n",
    "df['day_of_week'] = df['published_at'].dt.dayofweek\n",
    "df['month'] = df['published_at'].dt.month\n",
    "\n",
    "df.head()"
   ],
   "metadata": {
    "collapsed": false,
    "ExecuteTime": {
     "end_time": "2025-04-21T16:27:48.628301200Z",
     "start_time": "2025-04-21T16:27:46.374269200Z"
    }
   },
   "id": "c49b6bf50f3d8c47",
   "execution_count": 13
  },
  {
   "cell_type": "markdown",
   "source": [
    "Prepare data for modeling"
   ],
   "metadata": {
    "collapsed": false
   },
   "id": "3c44d6cf1419aba1"
  },
  {
   "cell_type": "code",
   "outputs": [],
   "source": [
    "# Define features and target\n",
    "X = df[['likes', 'comments', 'angry', 'disgust', 'fear', 'happy', 'sad', 'surprise', 'neutral', 'hour', 'day_of_week', 'month']]\n",
    "y = df['view_deviation']\n",
    "\n",
    "# Train-test split\n",
    "X_train, X_test, y_train, y_test = train_test_split(X, y, test_size=0.2, random_state=42)\n",
    "\n",
    "# Scaling\n",
    "scaler = StandardScaler()\n",
    "X_train_scaled = scaler.fit_transform(X_train)\n",
    "X_test_scaled = scaler.transform(X_test)\n"
   ],
   "metadata": {
    "collapsed": false,
    "ExecuteTime": {
     "end_time": "2025-04-21T16:27:48.666272400Z",
     "start_time": "2025-04-21T16:27:48.619214500Z"
    }
   },
   "id": "a1c9f4ee783836d9",
   "execution_count": 14
  },
  {
   "cell_type": "markdown",
   "source": [
    "Train model"
   ],
   "metadata": {
    "collapsed": false
   },
   "id": "a4081ec12635c259"
  },
  {
   "cell_type": "code",
   "outputs": [
    {
     "name": "stdout",
     "output_type": "stream",
     "text": [
      "RMSE: 1245656888100.0\n",
      "R²: nan\n"
     ]
    },
    {
     "name": "stderr",
     "output_type": "stream",
     "text": [
      "D:\\Anaconda3\\envs\\YouTubeSentiment\\Lib\\site-packages\\sklearn\\metrics\\_regression.py:1266: UndefinedMetricWarning: R^2 score is not well-defined with less than two samples.\n",
      "  warnings.warn(msg, UndefinedMetricWarning)\n"
     ]
    }
   ],
   "source": [
    "model = RandomForestRegressor(random_state=42)\n",
    "model.fit(X_train_scaled, y_train)\n",
    "\n",
    "# Predictions\n",
    "y_pred = model.predict(X_test_scaled)\n",
    "\n",
    "# Evaluation\n",
    "print('RMSE:', mean_squared_error(y_test, y_pred))\n",
    "print('R²:', r2_score(y_test, y_pred))\n"
   ],
   "metadata": {
    "collapsed": false,
    "ExecuteTime": {
     "end_time": "2025-04-21T16:27:48.935897500Z",
     "start_time": "2025-04-21T16:27:48.646010Z"
    }
   },
   "id": "2d8ddd50bf481e36",
   "execution_count": 15
  },
  {
   "cell_type": "markdown",
   "source": [
    "Determine weights of regressors"
   ],
   "metadata": {
    "collapsed": false
   },
   "id": "75a72d3a849f01c6"
  },
  {
   "cell_type": "code",
   "outputs": [
    {
     "name": "stdout",
     "output_type": "stream",
     "text": [
      "        Feature  Importance\n",
      "0         likes         0.0\n",
      "1      comments         0.0\n",
      "2         angry         0.0\n",
      "3       disgust         0.0\n",
      "4          fear         0.0\n",
      "5         happy         0.0\n",
      "6           sad         0.0\n",
      "7      surprise         0.0\n",
      "8       neutral         0.0\n",
      "9          hour         0.0\n",
      "10  day_of_week         0.0\n",
      "11        month         0.0\n"
     ]
    },
    {
     "name": "stderr",
     "output_type": "stream",
     "text": [
      "C:\\Users\\fabia\\AppData\\Local\\Temp\\ipykernel_13600\\397197551.py:15: FutureWarning: \n",
      "\n",
      "Passing `palette` without assigning `hue` is deprecated and will be removed in v0.14.0. Assign the `y` variable to `hue` and set `legend=False` for the same effect.\n",
      "\n",
      "  sns.barplot(data=feat_imp_df, x='Importance', y='Feature', palette='viridis')\n"
     ]
    },
    {
     "data": {
      "text/plain": "<Figure size 1000x600 with 1 Axes>",
      "image/png": "[encoded data removed]"
     },
     "metadata": {},
     "output_type": "display_data"
    }
   ],
   "source": [
    "importances = model.feature_importances_\n",
    "features = X.columns\n",
    "\n",
    "# Create a DataFrame for easier plotting\n",
    "feat_imp_df = pd.DataFrame({\n",
    "    'Feature': features,\n",
    "    'Importance': importances\n",
    "}).sort_values(by='Importance', ascending=False)\n",
    "\n",
    "# Print values\n",
    "print(feat_imp_df)"
   ],
   "metadata": {
    "collapsed": false,
    "ExecuteTime": {
     "end_time": "2025-04-21T16:27:49.740443400Z",
     "start_time": "2025-04-21T16:27:48.940968700Z"
    }
   },
   "id": "cae7fde125aee17f",
   "execution_count": 16
  }
 ],
 "metadata": {
  "kernelspec": {
   "display_name": "Python 3",
   "language": "python",
   "name": "python3"
  },
  "language_info": {
   "codemirror_mode": {
    "name": "ipython",
    "version": 2
   },
   "file_extension": ".py",
   "mimetype": "text/x-python",
   "name": "python",
   "nbconvert_exporter": "python",
   "pygments_lexer": "ipython2",
   "version": "2.7.6"
  }
 },
 "nbformat": 4,
 "nbformat_minor": 5
}
